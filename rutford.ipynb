{
 "cells": [
  {
   "cell_type": "markdown",
   "id": "45e9a045",
   "metadata": {},
   "source": [
    "## Applying code to the Rutford Ice Stream Data"
   ]
  },
  {
   "cell_type": "code",
   "execution_count": 1,
   "id": "88b6ce7a",
   "metadata": {},
   "outputs": [],
   "source": [
    "import obspy\n",
    "from obspy import UTCDateTime\n",
    "from obspy.clients.fdsn import Client\n",
    "from obspy import read\n",
    "\n",
    "import matplotlib.pyplot as plt\n",
    "# import ipynb.fs \n",
    "import icequake_processing\n",
    "import importlib\n",
    "importlib.reload(icequake_processing)\n",
    "from os.path import exists"
   ]
  },
  {
   "cell_type": "code",
   "execution_count": 3,
   "id": "0db9bd25",
   "metadata": {},
   "outputs": [],
   "source": [
    "filename = \"YG.ST01.2009-01-03.mseed\"\n",
    "\n",
    "# if exists(filename):\n",
    "#     print (\"File exists, loading it.\")\n",
    "#     st_raw = read(filename)\n",
    "# else:\n",
    "# print (\"File doesn't exist, downloading it.\")\n",
    "client = Client(\"IRIS\")\n",
    "\n",
    "t1 = UTCDateTime(\"2009-01-03T00:00:00\")\n",
    "t2 = UTCDateTime(\"2009-01-04T00:00:00\")\n",
    "# t1 = UTCDateTime(\"2009-01-03T05:00:00\")\n",
    "# t2 = UTCDateTime(\"2009-01-03T06:00:00\")\n",
    "#http://ds.iris.edu/mda/YG/?starttime=2009-01-01&endtime=2009-02-03\n",
    "\n",
    "# This period seems to have tremor?\n",
    "# t1 = UTCDateTime(\"2009-01-10T00:00:00\")\n",
    "# t2 = UTCDateTime(\"2009-01-10T01:00:00\")\n",
    "\n",
    "# Event from the paper\n",
    "# t1 = UTCDateTime(\"2009-01-03T05:15:42\")\n",
    "# t2 = UTCDateTime(\"2009-01-03T05:15:44\")\n",
    "\n",
    "st_raw = client.get_waveforms(\"YG\", \"ST01\", \"--\", \"GL1\", t1, t2, attach_response=True)\n",
    "\n",
    "inv = client.get_stations(network=\"YG\", station=\"ST01\",\n",
    "                                 starttime=t1,\n",
    "                                endtime=t2, level=\"response\")\n",
    "st_raw.write(filename, format=\"MSEED\")  "
   ]
  },
  {
   "cell_type": "code",
   "execution_count": 4,
   "id": "e108f43e",
   "metadata": {},
   "outputs": [
    {
     "data": {
      "text/plain": [
       "1 Trace(s) in Stream:\n",
       "YG.ST01..GL1 | 2009-01-03T00:00:00.000000Z - 2009-01-04T00:00:00.000000Z | 1000.0 Hz, 86400001 samples"
      ]
     },
     "execution_count": 4,
     "metadata": {},
     "output_type": "execute_result"
    }
   ],
   "source": [
    "st_day = st_raw.copy()\n",
    "pre_filt = (5, 10, 250, 500)\n",
    "st_day.remove_response(output='VEL', pre_filt=pre_filt)"
   ]
  },
  {
   "cell_type": "code",
   "execution_count": null,
   "id": "99bf40e4",
   "metadata": {},
   "outputs": [],
   "source": [
    "length = (st[0].stats.endtime - st[0].stats.starttime)\n",
    "new_time = (st[0].stats.starttime + length/2)\n",
    "print(new_time)"
   ]
  },
  {
   "cell_type": "code",
   "execution_count": null,
   "id": "b8ed503f",
   "metadata": {
    "scrolled": true
   },
   "outputs": [],
   "source": [
    "importlib.reload(icequake_processing)\n",
    "\n",
    "st = st_day\n",
    "avg_power,xf = icequake_processing.better_ppsd(st, new_time, \n",
    "                                         number_of_one_hour_intervals = 24, \n",
    "                                         filename = \"full_day_ris_ppsd\")"
   ]
  },
  {
   "cell_type": "code",
   "execution_count": null,
   "id": "47d4110e",
   "metadata": {},
   "outputs": [],
   "source": [
    "fig,ax=plt.subplots()\n",
    "fig.patch.set_facecolor('white')\n",
    "plt.plot(xf,avg_power)\n",
    "plt.yscale('log')\n",
    "plt.xscale('log')\n",
    "plt.show()"
   ]
  },
  {
   "cell_type": "code",
   "execution_count": null,
   "id": "55c754f7",
   "metadata": {},
   "outputs": [],
   "source": [
    "from obspy.signal.trigger import classic_sta_lta\n",
    "from obspy.signal.trigger import plot_trigger\n",
    "from obspy.signal.trigger import trigger_onset\n",
    "\n",
    "tr=st[0]\n",
    "df = tr.stats.sampling_rate\n",
    "cft = classic_sta_lta(tr, 0.01*df, 2*df)\n",
    "# cft = classic_sta_lta(tr, 1*df, 100*df)"
   ]
  },
  {
   "cell_type": "code",
   "execution_count": null,
   "id": "f668b8ad",
   "metadata": {},
   "outputs": [],
   "source": [
    "# trig_on = 150\n",
    "# trig_off = 75\n",
    "# plot_trigger(tr,cft,trig_on,trig_off)\n",
    "# event_times = trigger_onset(cft,trig_on,trig_off)/df\n",
    "# len(event_times)"
   ]
  },
  {
   "cell_type": "code",
   "execution_count": null,
   "id": "b9ffa5d2",
   "metadata": {},
   "outputs": [],
   "source": [
    "st = st_day"
   ]
  },
  {
   "cell_type": "code",
   "execution_count": null,
   "id": "9f325348",
   "metadata": {},
   "outputs": [],
   "source": [
    "st.plot(starttime=UTCDateTime(\"2009-01-03T05:19:08.7\"), endtime=UTCDateTime(\"2009-01-03T05:19:08.8\"))"
   ]
  },
  {
   "cell_type": "code",
   "execution_count": null,
   "id": "cd31f99b",
   "metadata": {},
   "outputs": [],
   "source": [
    "tr.data\n",
    "\n"
   ]
  },
  {
   "cell_type": "code",
   "execution_count": null,
   "id": "dc385afa",
   "metadata": {},
   "outputs": [],
   "source": [
    "from scipy.fft import fft, fftfreq\n",
    "import numpy as np\n",
    "\n",
    "tr = st.select(id=\"YG.ST01..GL1\")[0]\n",
    "N = len(tr.data)\n",
    "T = tr.stats.delta\n",
    "yf = fft(tr.data)\n",
    "xf = fftfreq(N, T)[:N//2]\n",
    "ya = 2.0/N * np.abs(yf[0:N//2])\n",
    "import matplotlib.pyplot as plt\n",
    "plt.plot(xf, ya**2)\n",
    "plt.grid()\n",
    "\n",
    "# plt.yscale(\"log\")\n",
    "plt.xscale(\"log\")\n",
    "plt.xlim([1,1000])\n",
    "# plt.ylim([1e-14,1e-10])\n",
    "\n",
    "plt.show()"
   ]
  }
 ],
 "metadata": {
  "kernelspec": {
   "display_name": "Python 3",
   "language": "python",
   "name": "python3"
  },
  "language_info": {
   "codemirror_mode": {
    "name": "ipython",
    "version": 3
   },
   "file_extension": ".py",
   "mimetype": "text/x-python",
   "name": "python",
   "nbconvert_exporter": "python",
   "pygments_lexer": "ipython3",
   "version": "3.9.2"
  }
 },
 "nbformat": 4,
 "nbformat_minor": 5
}
